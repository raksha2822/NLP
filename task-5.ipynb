{
 "cells": [
  {
   "cell_type": "code",
   "execution_count": 1,
   "id": "e1a0e2bc",
   "metadata": {},
   "outputs": [],
   "source": [
    "from sklearn.feature_extraction.text import CountVectorizer \n",
    "vect = CountVectorizer(binary = True)"
   ]
  },
  {
   "cell_type": "code",
   "execution_count": 2,
   "id": "8089f030",
   "metadata": {},
   "outputs": [],
   "source": [
    "#corpus with three documents \n",
    "corpus = [\"NLP is awesome\", \"I want to start an NLP company\", \"Top unicorns use NLP techniques\"]"
   ]
  },
  {
   "cell_type": "code",
   "execution_count": 3,
   "id": "36c13278",
   "metadata": {},
   "outputs": [
    {
     "data": {
      "text/plain": [
       "list"
      ]
     },
     "execution_count": 3,
     "metadata": {},
     "output_type": "execute_result"
    }
   ],
   "source": [
    "type(corpus)"
   ]
  },
  {
   "cell_type": "code",
   "execution_count": 4,
   "id": "be0f9f72",
   "metadata": {},
   "outputs": [
    {
     "data": {
      "text/plain": [
       "CountVectorizer(binary=True)"
      ]
     },
     "execution_count": 4,
     "metadata": {},
     "output_type": "execute_result"
    }
   ],
   "source": [
    "vect.fit(corpus)"
   ]
  },
  {
   "cell_type": "code",
   "execution_count": 5,
   "id": "61738ba7",
   "metadata": {},
   "outputs": [],
   "source": [
    "#List of unique terms present in the corpus\n",
    "vocab = vect.vocabulary_"
   ]
  },
  {
   "cell_type": "code",
   "execution_count": 6,
   "id": "858c4650",
   "metadata": {},
   "outputs": [
    {
     "name": "stdout",
     "output_type": "stream",
     "text": [
      "nlp:4\n",
      "is:3\n",
      "awesome:1\n",
      "want:11\n",
      "to:7\n",
      "start:5\n",
      "an:0\n",
      "company:2\n",
      "top:8\n",
      "unicorns:9\n",
      "use:10\n",
      "techniques:6\n"
     ]
    }
   ],
   "source": [
    "for key in vocab.keys():\n",
    "    print(\"{}:{}\".format(key,vocab[key]))"
   ]
  },
  {
   "cell_type": "code",
   "execution_count": 7,
   "id": "6046e22e",
   "metadata": {},
   "outputs": [
    {
     "data": {
      "text/plain": [
       "array([[0, 1, 0, 1, 1, 0, 0, 0, 0, 0, 0, 0],\n",
       "       [1, 0, 1, 0, 1, 1, 0, 1, 0, 0, 0, 1],\n",
       "       [0, 0, 0, 0, 1, 0, 1, 0, 1, 1, 1, 0]])"
      ]
     },
     "execution_count": 7,
     "metadata": {},
     "output_type": "execute_result"
    }
   ],
   "source": [
    "vect.transform([\"NLP is awesome\", \"I want to start an NLP company\", \"Top unicorns use NLP techniques\"]).toarray()"
   ]
  },
  {
   "cell_type": "code",
   "execution_count": 8,
   "id": "f772b4d8",
   "metadata": {},
   "outputs": [],
   "source": [
    "import numpy as np\n",
    "from sklearn.feature_extraction.text import TfidfVectorizer\n",
    "\n",
    "def cosine_similarity_text(texts):\n",
    "    \"\"\"\n",
    "    Calculates the cosine similarity between all pairs of texts in a list.\n",
    "    \"\"\"\n",
    "    # create TfidfVectorizer object\n",
    "    vectorizer = TfidfVectorizer()\n",
    "\n",
    "    # create sparse matrix of text vectors\n",
    "    text_vectors = vectorizer.fit_transform(texts)\n",
    "\n",
    "    # convert sparse matrix to dense matrix\n",
    "    dense_vectors = text_vectors.todense()\n",
    "\n",
    "    # calculate cosine similarity\n",
    "    cos_sim = np.dot(dense_vectors, dense_vectors.T)\n",
    "\n",
    "    return cos_sim"
   ]
  },
  {
   "cell_type": "code",
   "execution_count": 9,
   "id": "d1abbe96",
   "metadata": {},
   "outputs": [
    {
     "name": "stdout",
     "output_type": "stream",
     "text": [
      "[[1.         0.09841374 0.10914377]\n",
      " [0.09841374 1.         0.07232613]\n",
      " [0.10914377 0.07232613 1.        ]]\n"
     ]
    }
   ],
   "source": [
    "cos_sim = cosine_similarity_text(corpus)\n",
    "print(cos_sim)"
   ]
  },
  {
   "cell_type": "code",
   "execution_count": 10,
   "id": "014dc29f",
   "metadata": {},
   "outputs": [],
   "source": [
    "from sklearn.metrics.pairwise import cosine_similarity"
   ]
  },
  {
   "cell_type": "code",
   "execution_count": 11,
   "id": "c8a4e7ec",
   "metadata": {},
   "outputs": [],
   "source": [
    "similarity = cosine_similarity((vect.transform([\"ML is an elective subject\"]).toarray()),\n",
    "                               vect.transform([\"Airbnb is an NLP company\"]).toarray())"
   ]
  },
  {
   "cell_type": "code",
   "execution_count": 12,
   "id": "5eaa1927",
   "metadata": {},
   "outputs": [
    {
     "data": {
      "text/plain": [
       "array([[0.70710678]])"
      ]
     },
     "execution_count": 12,
     "metadata": {},
     "output_type": "execute_result"
    }
   ],
   "source": [
    "similarity"
   ]
  }
 ],
 "metadata": {
  "kernelspec": {
   "display_name": "Python 3 (ipykernel)",
   "language": "python",
   "name": "python3"
  },
  "language_info": {
   "codemirror_mode": {
    "name": "ipython",
    "version": 3
   },
   "file_extension": ".py",
   "mimetype": "text/x-python",
   "name": "python",
   "nbconvert_exporter": "python",
   "pygments_lexer": "ipython3",
   "version": "3.9.13"
  }
 },
 "nbformat": 4,
 "nbformat_minor": 5
}
